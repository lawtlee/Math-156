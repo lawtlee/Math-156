{
 "cells": [
  {
   "cell_type": "code",
   "execution_count": 34,
   "metadata": {},
   "outputs": [],
   "source": [
    "import numpy as np\n",
    "import pandas as pd \n",
    "import sklearn"
   ]
  },
  {
   "cell_type": "code",
   "execution_count": 35,
   "metadata": {},
   "outputs": [],
   "source": [
    "def sigmoid(x):\n",
    "    return 1/(1 + np.exp(-x))"
   ]
  },
  {
   "cell_type": "code",
   "execution_count": 36,
   "metadata": {},
   "outputs": [],
   "source": [
    "def crossEntropyLoss(x, t):\n",
    "    (1 - t) * np.log(sigmoid(x)) + t * np.log(1 - sigmoid(x))"
   ]
  },
  {
   "cell_type": "code",
   "execution_count": 37,
   "metadata": {},
   "outputs": [],
   "source": [
    "def prob(y):\n",
    "    return np.array([1 if label == \"B\" else 0 for label in y])\n"
   ]
  },
  {
   "cell_type": "code",
   "execution_count": 38,
   "metadata": {},
   "outputs": [],
   "source": [
    "def miniSGD(batch_size, X, y, w, alpha=0.01, epoch=100):\n",
    "    m, n = X.shape\n",
    "\n",
    "    X_b = np.c_[np.ones((m, 1),), X]\n",
    "    w0 = w\n",
    "\n",
    "    t = prob(y.values.flatten())\n",
    "\n",
    "    for i in range(epoch):\n",
    "        permutation = np.random.permutation(m)\n",
    "        X_shuffled = X_b[permutation]\n",
    "        t_shuffled = t[permutation]\n",
    "\n",
    "        for i in range(0, m, batch_size):\n",
    "            X_batch = X_shuffled[i:i + batch_size]\n",
    "            t_batch = t_shuffled[i:i + batch_size]\n",
    "            y_batch = sigmoid(np.dot(X_batch, w))\n",
    "\n",
    "            error = y_batch - t_batch\n",
    "            gradient = np.dot(X_batch.T, error)\n",
    "\n",
    "            w0 -= alpha * gradient\n",
    "\n",
    "    return w0"
   ]
  },
  {
   "cell_type": "code",
   "execution_count": 39,
   "metadata": {},
   "outputs": [],
   "source": [
    "def confusionMatrix(y_pred, y_true):\n",
    "    TP = np.sum((y_pred == \"B\") & (y_true == \"B\"))\n",
    "    FP = np.sum((y_pred == \"B\") & (y_true == \"M\"))\n",
    "    TN = np.sum((y_pred == \"M\") & (y_true == \"M\"))\n",
    "    FN = np.sum((y_pred == \"M\") & (y_true == \"B\"))\n",
    "\n",
    "    return TP, FP, TN, FN"
   ]
  },
  {
   "cell_type": "code",
   "execution_count": 40,
   "metadata": {},
   "outputs": [],
   "source": [
    "def eval(y_pred, y_true):\n",
    "    TP, FP, TN, FN = confusionMatrix(y_pred, y_true)\n",
    "\n",
    "    accuracy = (TP + TN) / len(y_pred)\n",
    "    precision = TP / (TP + FP) \n",
    "    recall = TP / (TP + FN)\n",
    "    F1 = 2 * precision * recall / (precision + recall)\n",
    "\n",
    "    return accuracy, precision, recall, F1"
   ]
  },
  {
   "cell_type": "code",
   "execution_count": 41,
   "metadata": {},
   "outputs": [],
   "source": [
    "from ucimlrepo import fetch_ucirepo\n",
    "from sklearn.model_selection import train_test_split"
   ]
  },
  {
   "cell_type": "code",
   "execution_count": 42,
   "metadata": {},
   "outputs": [],
   "source": [
    "breast_df = fetch_ucirepo(id=17) \n",
    "\n",
    "X = breast_df.data.features \n",
    "y = breast_df.data.targets \n"
   ]
  },
  {
   "cell_type": "code",
   "execution_count": 43,
   "metadata": {},
   "outputs": [],
   "source": [
    "X_train, X_test, y_train, y_test = train_test_split(X, y, test_size=0.33, random_state=42)"
   ]
  },
  {
   "cell_type": "code",
   "execution_count": 44,
   "metadata": {},
   "outputs": [],
   "source": [
    "from sklearn.preprocessing import StandardScaler\n",
    "\n",
    "scaler = StandardScaler()\n",
    "\n",
    "X_train = scaler.fit_transform(X_train)\n",
    "X_test = scaler.fit_transform(X_test)"
   ]
  },
  {
   "cell_type": "code",
   "execution_count": 45,
   "metadata": {},
   "outputs": [],
   "source": [
    "import random\n",
    "\n",
    "w = np.array([random.gauss(0, 1) for _ in range(X.shape[1] + 1)])\n",
    "\n",
    "epochs = 100\n",
    "\n",
    "alpha1 = 0.1 \n",
    "batch_size1 = 10\n",
    "w1 = miniSGD(batch_size1, X_train, y_train, w, alpha1, epochs)\n",
    "\n",
    "alpha2 = 0.01\n",
    "batch_size2 = 32\n",
    "w2 = miniSGD(batch_size2, X_train, y_train, w, alpha2, epochs)\n",
    "\n",
    "alpha3 = 0.001\n",
    "batch_size3 = 64\n",
    "w3 = miniSGD(batch_size3, X_train, y_train, w, alpha3, epochs)\n",
    "\n",
    "alpha4 = 0.0001\n",
    "batch_size4 = 128\n",
    "w4 = miniSGD(batch_size4, X_train, y_train, w, alpha4, epochs)"
   ]
  },
  {
   "cell_type": "code",
   "execution_count": 46,
   "metadata": {},
   "outputs": [],
   "source": [
    "X_test_b = np.c_[np.ones((X_test.shape[0], 1)), X_test]\n",
    "predicted_probabilities1 = sigmoid(np.dot(X_test_b, w1))\n",
    "predicted_probabilities2 = sigmoid(np.dot(X_test_b, w2))\n",
    "predicted_probabilities3 = sigmoid(np.dot(X_test_b, w3))\n",
    "predicted_probabilities4 = sigmoid(np.dot(X_test_b, w4))"
   ]
  },
  {
   "cell_type": "code",
   "execution_count": 47,
   "metadata": {},
   "outputs": [
    {
     "name": "stdout",
     "output_type": "stream",
     "text": [
      "Accuracy of the model is 0.9627659574468085\n",
      "Precision of the model is 0.9830508474576272\n",
      "Recall of the model is 0.9586776859504132\n",
      "F1 of the model is 0.9707112970711298 \n",
      "\n",
      "Accuracy of the model is 0.9627659574468085\n",
      "Precision of the model is 0.9830508474576272\n",
      "Recall of the model is 0.9586776859504132\n",
      "F1 of the model is 0.9707112970711298 \n",
      "\n",
      "Accuracy of the model is 0.9627659574468085\n",
      "Precision of the model is 0.9830508474576272\n",
      "Recall of the model is 0.9586776859504132\n",
      "F1 of the model is 0.9707112970711298 \n",
      "\n",
      "Accuracy of the model is 0.9627659574468085\n",
      "Precision of the model is 0.9830508474576272\n",
      "Recall of the model is 0.9586776859504132\n",
      "F1 of the model is 0.9707112970711298 \n",
      "\n"
     ]
    }
   ],
   "source": [
    "predictions1 = np.where(predicted_probabilities1 > 0.5, \"B\", \"M\")\n",
    "accuracy1, precision1, recall1, F1_1 = eval(predictions1, y_test.values.flatten())\n",
    "print(f\"Accuracy of the model is {accuracy1}\")\n",
    "print(f\"Precision of the model is {precision1}\")\n",
    "print(f\"Recall of the model is {recall1}\")\n",
    "print(f\"F1 of the model is {F1_1} \\n\")\n",
    "\n",
    "predictions2 = np.where(predicted_probabilities2 > 0.5, \"B\", \"M\")\n",
    "accuracy2, precision2, recall2, F1_2 = eval(predictions2, y_test.values.flatten())\n",
    "print(f\"Accuracy of the model is {accuracy2}\")\n",
    "print(f\"Precision of the model is {precision2}\")\n",
    "print(f\"Recall of the model is {recall2}\")\n",
    "print(f\"F1 of the model is {F1_2} \\n\")\n",
    "\n",
    "predictions3 = np.where(predicted_probabilities3 > 0.5, \"B\", \"M\")\n",
    "accuracy3, precision3, recall3, F1_3 = eval(predictions3, y_test.values.flatten())\n",
    "print(f\"Accuracy of the model is {accuracy3}\")\n",
    "print(f\"Precision of the model is {precision3}\")\n",
    "print(f\"Recall of the model is {recall3}\")\n",
    "print(f\"F1 of the model is {F1_3} \\n\")\n",
    "\n",
    "predictions4 = np.where(predicted_probabilities4 > 0.5, \"B\", \"M\")\n",
    "accuracy4, precision4, recall4, F1_4 = eval(predictions4, y_test.values.flatten())\n",
    "print(f\"Accuracy of the model is {accuracy4}\")\n",
    "print(f\"Precision of the model is {precision4}\")\n",
    "print(f\"Recall of the model is {recall4}\")\n",
    "print(f\"F1 of the model is {F1_4} \\n\")"
   ]
  },
  {
   "cell_type": "markdown",
   "metadata": {},
   "source": [
    "The model is found to be pretty accurate. I am not entirely sure why the metrics do not change as I change the parameters, all I can assume is the changes are too miniscule in my miniSGD function. The change of alpha doesn't effect it much since alpha is already small."
   ]
  }
 ],
 "metadata": {
  "kernelspec": {
   "display_name": ".venv",
   "language": "python",
   "name": "python3"
  },
  "language_info": {
   "codemirror_mode": {
    "name": "ipython",
    "version": 3
   },
   "file_extension": ".py",
   "mimetype": "text/x-python",
   "name": "python",
   "nbconvert_exporter": "python",
   "pygments_lexer": "ipython3",
   "version": "3.12.6"
  }
 },
 "nbformat": 4,
 "nbformat_minor": 2
}
